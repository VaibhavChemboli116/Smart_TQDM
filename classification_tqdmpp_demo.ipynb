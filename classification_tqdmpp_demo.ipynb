{
 "cells": [
  {
   "cell_type": "code",
   "execution_count": 1,
   "metadata": {
    "execution": {
     "iopub.execute_input": "2024-11-18T01:31:10.204662Z",
     "iopub.status.busy": "2024-11-18T01:31:10.204235Z",
     "iopub.status.idle": "2024-11-18T01:31:10.216104Z",
     "shell.execute_reply": "2024-11-18T01:31:10.215289Z",
     "shell.execute_reply.started": "2024-11-18T01:31:10.204624Z"
    }
   },
   "outputs": [
    {
     "name": "stdout",
     "output_type": "stream",
     "text": [
      "Classification Demo with VGG16 + Smart TQDM++\n",
      "============================================================\n"
     ]
    }
   ],
   "source": [
    "import random\n",
    "import torch\n",
    "import numpy as np\n",
    "import torch.nn as nn\n",
    "import torch.optim as optim\n",
    "import torch.nn.functional as F\n",
    "from torchvision import datasets, transforms, models\n",
    "from torch.utils.data import DataLoader\n",
    "import copy\n",
    "import time\n",
    "\n",
    "# Import both standard tqdm and our smart tqdm\n",
    "from tqdm import tqdm  # Standard tqdm for comparison\n",
    "from tqdmpp import SmartBar, accuracy_based_selector, loss_based_selector\n",
    "\n",
    "def set_seed(seed=116):\n",
    "    random.seed(seed)\n",
    "    np.random.seed(seed)\n",
    "    torch.manual_seed(seed)\n",
    "    torch.cuda.manual_seed(seed)\n",
    "    torch.cuda.manual_seed_all(seed)  \n",
    "    torch.backends.cudnn.deterministic = True  \n",
    "    torch.backends.cudnn.benchmark = False  \n",
    "\n",
    "set_seed(116)\n",
    "print(\"Classification Demo with VGG16 + Smart TQDM++\")\n",
    "print(\"=\"*60)"
   ]
  },
  {
   "cell_type": "code",
   "execution_count": 2,
   "metadata": {
    "execution": {
     "iopub.execute_input": "2024-11-18T00:37:28.569599Z",
     "iopub.status.busy": "2024-11-18T00:37:28.569248Z",
     "iopub.status.idle": "2024-11-18T00:37:28.877264Z",
     "shell.execute_reply": "2024-11-18T00:37:28.876290Z",
     "shell.execute_reply.started": "2024-11-18T00:37:28.569566Z"
    }
   },
   "outputs": [
    {
     "name": "stdout",
     "output_type": "stream",
     "text": [
      "📱 Using device: cpu\n",
      "VGG16-based Classifier Created!\n",
      "Total parameters: 121,677,635\n",
      "Trainable parameters: 116,402,179\n"
     ]
    }
   ],
   "source": [
    "class VGG16Classifier(nn.Module):\n",
    "    def __init__(self, num_classes=3):\n",
    "        super(VGG16Classifier, self).__init__()\n",
    "        \n",
    "        # Load pre-trained VGG16\n",
    "        self.vgg16 = models.vgg16(weights='VGG16_Weights.IMAGENET1K_V1')\n",
    "        \n",
    "        # Freeze early layers (optional - for faster training)\n",
    "        for param in self.vgg16.features[:20].parameters():\n",
    "            param.requires_grad = False\n",
    "        \n",
    "        # Replace the classifier for our 3-class problem\n",
    "        self.vgg16.classifier = nn.Sequential(\n",
    "            nn.Linear(25088, 4096),\n",
    "            nn.ReLU(True),\n",
    "            nn.Dropout(0.5),\n",
    "            nn.Linear(4096, 1024),\n",
    "            nn.ReLU(True),\n",
    "            nn.Dropout(0.5),\n",
    "            nn.Linear(1024, num_classes)\n",
    "        )\n",
    "    \n",
    "    def forward(self, x):\n",
    "        return self.vgg16(x)\n",
    "\n",
    "# Create model\n",
    "device = torch.device(\"cuda\" if torch.cuda.is_available() else \"cpu\")\n",
    "print(f\"📱 Using device: {device}\")\n",
    "\n",
    "model = VGG16Classifier(num_classes=3)\n",
    "model.to(device)\n",
    "\n",
    "print(\"VGG16-based Classifier Created!\")\n",
    "print(f\"Total parameters: {sum(p.numel() for p in model.parameters()):,}\")\n",
    "print(f\"Trainable parameters: {sum(p.numel() for p in model.parameters() if p.requires_grad):,}\")"
   ]
  },
  {
   "cell_type": "code",
   "execution_count": 3,
   "metadata": {
    "_cell_guid": "b1076dfc-b9ad-4769-8c92-a6c4dae69d19",
    "_uuid": "8f2839f25d086af736a60e9eeb907d3b93b6e0e5",
    "execution": {
     "iopub.execute_input": "2024-11-15T19:06:03.827517Z",
     "iopub.status.busy": "2024-11-15T19:06:03.826627Z",
     "iopub.status.idle": "2024-11-15T19:06:04.038345Z",
     "shell.execute_reply": "2024-11-15T19:06:04.037394Z",
     "shell.execute_reply.started": "2024-11-15T19:06:03.827475Z"
    }
   },
   "outputs": [
    {
     "name": "stdout",
     "output_type": "stream",
     "text": [
      "Data loaded from: data/Dog_heart/Train\n",
      "Number of training samples: 1400\n",
      "Classes: ['Large', 'Normal', 'Small']\n",
      "Batch size: 16\n",
      "Number of batches: 88\n"
     ]
    }
   ],
   "source": [
    "# Data loading and preprocessing\n",
    "train_transform = transforms.Compose([\n",
    "    transforms.Resize((224, 224)),  # VGG16 standard input size\n",
    "    transforms.RandomHorizontalFlip(p=0.5),\n",
    "    transforms.RandomRotation(15),\n",
    "    transforms.ColorJitter(brightness=0.2, contrast=0.2, saturation=0.2, hue=0.1),\n",
    "    transforms.ToTensor(),\n",
    "    transforms.Normalize(mean=[0.485, 0.456, 0.406], std=[0.229, 0.224, 0.225]),  # ImageNet normalization\n",
    "])\n",
    "\n",
    "# Use local data directory\n",
    "train_dir = \"data/Dog_heart/Train\"\n",
    "\n",
    "train_dataset = datasets.ImageFolder(root=train_dir, transform=train_transform)\n",
    "train_loader = DataLoader(train_dataset, batch_size=16, shuffle=True)  # Smaller batch size for VGG16\n",
    "\n",
    "print(f\"Data loaded from: {train_dir}\")\n",
    "print(f\"Number of training samples: {len(train_dataset)}\")\n",
    "print(f\"Classes: {train_dataset.classes}\")\n",
    "print(f\"Batch size: 16\")\n",
    "print(f\"Number of batches: {len(train_loader)}\")"
   ]
  },
  {
   "cell_type": "code",
   "execution_count": 4,
   "metadata": {
    "execution": {
     "iopub.execute_input": "2024-11-15T19:07:56.959085Z",
     "iopub.status.busy": "2024-11-15T19:07:56.958702Z",
     "iopub.status.idle": "2024-11-15T21:09:45.172591Z",
     "shell.execute_reply": "2024-11-15T21:09:45.171683Z",
     "shell.execute_reply.started": "2024-11-15T19:07:56.959049Z"
    }
   },
   "outputs": [
    {
     "name": "stdout",
     "output_type": "stream",
     "text": [
      "Starting comprehensive training demo with 4 different progress bar modes!\n",
      "\n",
      "======================================================================\n",
      "DEMO 1: DEFAULT SMART TQDM++ (Intelligent Selection)\n",
      "======================================================================\n",
      "Training with DEFAULT progress bar...\n",
      "\n",
      "Terminal too narrow (80 chars). Bar will be minimal.\n",
      "\u001b[KEpoch 1/2 [Defaul... ┃\u001b[38;2;255;0;0m━\u001b[0m\u001b[38;2;255;56;0m━\u001b[0m\u001b[38;2;255;113;0m━\u001b[0m\u001b[38;2;255;170;0m━\u001b[0m\u001b[38;2;255;226;0m━\u001b[0m\u001b[38;2;226;255;0m━\u001b[0m\u001b[38;2;170;255;0m━\u001b[0m\u001b[38;2;113;255;0m━\u001b[0m\u001b[38;2;56;255;0m━\u001b[0m\u001b[38;2;0;255;0m━\u001b[0m🚀┃ 88/88 100.0% [ 496.8s] [loss:0.807 acc:57.79]Epoch 1 completed: Loss=0.8068, Acc=57.79%\n",
      "\n",
      "Terminal too narrow (80 chars). Bar will be minimal.\n",
      "\u001b[KEpoch 2/2 [Defaul... ┃\u001b[38;2;255;0;0m━\u001b[0m\u001b[38;2;255;56;0m━\u001b[0m\u001b[38;2;255;113;0m━\u001b[0m\u001b[38;2;255;170;0m━\u001b[0m\u001b[38;2;255;226;0m━\u001b[0m\u001b[38;2;226;255;0m━\u001b[0m\u001b[38;2;170;255;0m━\u001b[0m\u001b[38;2;113;255;0m━\u001b[0m\u001b[38;2;56;255;0m━\u001b[0m\u001b[38;2;0;255;0m━\u001b[0m🚀┃ 88/88 100.0% [ 167.1s] [loss:0.664 acc:67.93]Epoch 2 completed: Loss=0.6645, Acc=67.93%\n",
      "\n",
      "======================================================================\n",
      "DEMO 2: ACCURACY-BASED SMART TQDM++\n",
      "======================================================================\n",
      "Training with ACCURACY progress bar...\n",
      "\n",
      "Terminal too narrow (80 chars). Bar will be minimal.\n",
      "\u001b[KEpoch 1/2 [Accura... ┃\u001b[38;2;255;0;0m━\u001b[0m\u001b[38;2;255;56;0m━\u001b[0m\u001b[38;2;255;113;0m━\u001b[0m\u001b[38;2;255;170;0m━\u001b[0m\u001b[38;2;255;226;0m━\u001b[0m\u001b[38;2;226;255;0m━\u001b[0m\u001b[38;2;170;255;0m━\u001b[0m\u001b[38;2;113;255;0m━\u001b[0m\u001b[38;2;56;255;0m━\u001b[0m\u001b[38;2;0;255;0m━\u001b[0m😅┃ 88/88 100.0% [ 180.3s] [loss:0.853 acc:53.07]Epoch 1 completed: Loss=0.8531, Acc=53.07%\n",
      "\n",
      "Terminal too narrow (80 chars). Bar will be minimal.\n",
      "\u001b[KEpoch 2/2 [Accura... ┃\u001b[38;2;255;0;0m━\u001b[0m\u001b[38;2;255;56;0m━\u001b[0m\u001b[38;2;255;113;0m━\u001b[0m\u001b[38;2;255;170;0m━\u001b[0m\u001b[38;2;255;226;0m━\u001b[0m\u001b[38;2;226;255;0m━\u001b[0m\u001b[38;2;170;255;0m━\u001b[0m\u001b[38;2;113;255;0m━\u001b[0m\u001b[38;2;56;255;0m━\u001b[0m\u001b[38;2;0;255;0m━\u001b[0m🚀┃ 88/88 100.0% [ 178.6s] [loss:0.659 acc:67.86]Epoch 2 completed: Loss=0.6588, Acc=67.86%\n",
      "\n",
      "======================================================================\n",
      "DEMO 3: LOSS-BASED SMART TQDM++\n",
      "======================================================================\n",
      "Training with LOSS progress bar...\n",
      "\n",
      "Terminal too narrow (80 chars). Bar will be minimal.\n",
      "\u001b[KEpoch 1/2 [Loss-b... ┃\u001b[38;2;255;0;0m━\u001b[0m\u001b[38;2;255;56;0m━\u001b[0m\u001b[38;2;255;113;0m━\u001b[0m\u001b[38;2;255;170;0m━\u001b[0m\u001b[38;2;255;226;0m━\u001b[0m\u001b[38;2;226;255;0m━\u001b[0m\u001b[38;2;170;255;0m━\u001b[0m\u001b[38;2;113;255;0m━\u001b[0m\u001b[38;2;56;255;0m━\u001b[0m\u001b[38;2;0;255;0m━\u001b[0m🥳┃ 88/88 100.0% [ 191.1s] [loss:0.811 acc:57.00]Epoch 1 completed: Loss=0.8108, Acc=57.00%\n",
      "\n",
      "Terminal too narrow (80 chars). Bar will be minimal.\n",
      "\u001b[KEpoch 2/2 [Loss-b... ┃\u001b[38;2;255;0;0m━\u001b[0m\u001b[38;2;255;56;0m━\u001b[0m\u001b[38;2;255;113;0m━\u001b[0m\u001b[38;2;255;170;0m━\u001b[0m\u001b[38;2;255;226;0m━\u001b[0m\u001b[38;2;226;255;0m━\u001b[0m\u001b[38;2;170;255;0m━\u001b[0m\u001b[38;2;113;255;0m━\u001b[0m\u001b[38;2;56;255;0m━\u001b[0m\u001b[38;2;0;255;0m━\u001b[0m🎯┃ 88/88 100.0% [ 176.7s] [loss:0.669 acc:65.79]Epoch 2 completed: Loss=0.6693, Acc=65.79%\n",
      "\n",
      "======================================================================\n",
      "DEMO 4: STANDARD TQDM (Comparison)\n",
      "======================================================================\n",
      "Training with STANDARD progress bar...\n"
     ]
    },
    {
     "name": "stderr",
     "output_type": "stream",
     "text": [
      "Epoch 1/2 [Standard TQDM]: 100%|██████████| 88/88 [03:02<00:00,  2.08s/it, acc=56.57%, loss=0.832]\n"
     ]
    },
    {
     "name": "stdout",
     "output_type": "stream",
     "text": [
      "Epoch 1 completed: Loss=0.8320, Acc=56.57%\n"
     ]
    },
    {
     "name": "stderr",
     "output_type": "stream",
     "text": [
      "Epoch 2/2 [Standard TQDM]: 100%|██████████| 88/88 [02:51<00:00,  1.95s/it, acc=68.93%, loss=0.641]\n"
     ]
    },
    {
     "name": "stdout",
     "output_type": "stream",
     "text": [
      "Epoch 2 completed: Loss=0.6408, Acc=68.93%\n",
      "\n",
      "All training demos completed!\n",
      "Notice how SmartBar provides intelligent emoji feedback based on performance trends!\n"
     ]
    }
   ],
   "source": [
    "\n",
    "# Training function with different progress bar modes\n",
    "def train_with_progress_bar(model, train_loader, criterion, optimizer, num_epochs, progress_bar_type=\"default\"):\n",
    "    \"\"\"\n",
    "    Train model with specified progress bar type\n",
    "    \n",
    "    Args:\n",
    "        progress_bar_type: \"default\", \"accuracy\", \"loss\", \"standard\"\n",
    "    \"\"\"\n",
    "    print(f\"Training with {progress_bar_type.upper()} progress bar...\")\n",
    "    \n",
    "    model.train()\n",
    "    history = {'train_loss': [], 'train_acc': []}\n",
    "    \n",
    "    for epoch in range(num_epochs):\n",
    "        train_loss, correct, total = 0.0, 0, 0\n",
    "        \n",
    "        # Choose appropriate progress bar\n",
    "        if progress_bar_type == \"default\":\n",
    "            # Default SmartBar with intelligent emoji selection\n",
    "            progress_bar = SmartBar(len(train_loader), \n",
    "                                  desc=f\"Epoch {epoch+1}/{num_epochs} [Default Smart]\", \n",
    "                                  show_emoji=True)\n",
    "        elif progress_bar_type == \"accuracy\":\n",
    "            # Accuracy-based emoji selection\n",
    "            progress_bar = SmartBar(len(train_loader), \n",
    "                                  desc=f\"Epoch {epoch+1}/{num_epochs} [Accuracy-based]\", \n",
    "                                  show_emoji=True, \n",
    "                                  emoji_selector=accuracy_based_selector)\n",
    "        elif progress_bar_type == \"loss\":\n",
    "            # Loss-based emoji selection\n",
    "            progress_bar = SmartBar(len(train_loader), \n",
    "                                  desc=f\"Epoch {epoch+1}/{num_epochs} [Loss-based]\", \n",
    "                                  show_emoji=True, \n",
    "                                  emoji_selector=loss_based_selector)\n",
    "        else:  # standard\n",
    "            # Standard tqdm for comparison\n",
    "            progress_bar = tqdm(range(len(train_loader)), \n",
    "                              desc=f\"Epoch {epoch+1}/{num_epochs} [Standard TQDM]\")\n",
    "        \n",
    "        # Training loop\n",
    "        for batch_idx, (images, labels) in enumerate(train_loader):\n",
    "            images, labels = images.to(device), labels.to(device)\n",
    "            \n",
    "            optimizer.zero_grad()\n",
    "            outputs = model(images)\n",
    "            loss = criterion(outputs, labels)\n",
    "            loss.backward()\n",
    "            optimizer.step()\n",
    "            \n",
    "            # Calculate metrics\n",
    "            train_loss += loss.item()\n",
    "            _, predicted = torch.max(outputs.data, 1)\n",
    "            total += labels.size(0)\n",
    "            correct += (predicted == labels).sum().item()\n",
    "            \n",
    "            # Update progress bar\n",
    "            current_loss = train_loss / (batch_idx + 1)\n",
    "            current_acc = 100 * correct / total\n",
    "            \n",
    "            if progress_bar_type != \"standard\":\n",
    "                # For SmartBar, update with metrics\n",
    "                progress_bar.set_metrics(loss=f\"{current_loss:.3f}\", acc=f\"{current_acc:.2f}\")\n",
    "                next(progress_bar)\n",
    "            else:\n",
    "                # For standard tqdm, just update position\n",
    "                progress_bar.update(1)\n",
    "                progress_bar.set_postfix(loss=f\"{current_loss:.3f}\", acc=f\"{current_acc:.2f}%\")\n",
    "        \n",
    "        # Close progress bar\n",
    "        if hasattr(progress_bar, 'close'):\n",
    "            progress_bar.close()\n",
    "        \n",
    "        # Calculate epoch metrics\n",
    "        epoch_loss = train_loss / len(train_loader)\n",
    "        epoch_acc = 100 * correct / total\n",
    "        \n",
    "        history['train_loss'].append(epoch_loss)\n",
    "        history['train_acc'].append(epoch_acc)\n",
    "        \n",
    "        print(f\"Epoch {epoch+1} completed: Loss={epoch_loss:.4f}, Acc={epoch_acc:.2f}%\")\n",
    "        \n",
    "        # Add small delay to see the emoji changes\n",
    "        time.sleep(0.5)\n",
    "    \n",
    "    return history\n",
    "\n",
    "# Setup training\n",
    "criterion = nn.CrossEntropyLoss()\n",
    "num_epochs = 2  # Reduced for demo purposes\n",
    "\n",
    "print(\"Starting comprehensive training demo with 4 different progress bar modes!\\n\")\n",
    "\n",
    "# Demo 1: Default SmartBar (intelligent emoji selection)\n",
    "print(\"=\" * 70)\n",
    "print(\"DEMO 1: DEFAULT SMART TQDM++ (Intelligent Selection)\")\n",
    "print(\"=\" * 70)\n",
    "model1 = VGG16Classifier(num_classes=3).to(device)\n",
    "optimizer1 = optim.Adam(model1.parameters(), lr=1e-4)\n",
    "history1 = train_with_progress_bar(model1, train_loader, criterion, optimizer1, num_epochs, \"default\")\n",
    "\n",
    "print(\"\\n\" + \"=\" * 70)\n",
    "print(\"DEMO 2: ACCURACY-BASED SMART TQDM++\")\n",
    "print(\"=\" * 70)\n",
    "model2 = VGG16Classifier(num_classes=3).to(device)\n",
    "optimizer2 = optim.Adam(model2.parameters(), lr=1e-4)\n",
    "history2 = train_with_progress_bar(model2, train_loader, criterion, optimizer2, num_epochs, \"accuracy\")\n",
    "\n",
    "print(\"\\n\" + \"=\" * 70)\n",
    "print(\"DEMO 3: LOSS-BASED SMART TQDM++\")\n",
    "print(\"=\" * 70)\n",
    "model3 = VGG16Classifier(num_classes=3).to(device)\n",
    "optimizer3 = optim.Adam(model3.parameters(), lr=1e-4)\n",
    "history3 = train_with_progress_bar(model3, train_loader, criterion, optimizer3, num_epochs, \"loss\")\n",
    "\n",
    "print(\"\\n\" + \"=\" * 70)\n",
    "print(\"DEMO 4: STANDARD TQDM (Comparison)\")\n",
    "print(\"=\" * 70)\n",
    "model4 = VGG16Classifier(num_classes=3).to(device)\n",
    "optimizer4 = optim.Adam(model4.parameters(), lr=1e-4)\n",
    "history4 = train_with_progress_bar(model4, train_loader, criterion, optimizer4, num_epochs, \"standard\")\n",
    "\n",
    "print(\"\\nAll training demos completed!\")\n",
    "print(\"Notice how SmartBar provides intelligent emoji feedback based on performance trends!\")"
   ]
  },
  {
   "cell_type": "markdown",
   "metadata": {},
   "source": []
  },
  {
   "cell_type": "code",
   "execution_count": null,
   "metadata": {},
   "outputs": [],
   "source": []
  }
 ],
 "metadata": {
  "kaggle": {
   "accelerator": "gpu",
   "dataSources": [
    {
     "datasetId": 5983267,
     "sourceId": 9768987,
     "sourceType": "datasetVersion"
    },
    {
     "isSourceIdPinned": true,
     "modelId": 167260,
     "modelInstanceId": 144700,
     "sourceId": 170076,
     "sourceType": "modelInstanceVersion"
    }
   ],
   "dockerImageVersionId": 30787,
   "isGpuEnabled": true,
   "isInternetEnabled": true,
   "language": "python",
   "sourceType": "notebook"
  },
  "kernelspec": {
   "display_name": "smart_tqdm_env",
   "language": "python",
   "name": "python3"
  },
  "language_info": {
   "codemirror_mode": {
    "name": "ipython",
    "version": 3
   },
   "file_extension": ".py",
   "mimetype": "text/x-python",
   "name": "python",
   "nbconvert_exporter": "python",
   "pygments_lexer": "ipython3",
   "version": "3.9.6"
  }
 },
 "nbformat": 4,
 "nbformat_minor": 4
}
